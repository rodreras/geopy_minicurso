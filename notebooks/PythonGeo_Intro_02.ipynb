{
  "nbformat": 4,
  "nbformat_minor": 0,
  "metadata": {
    "colab": {
      "provenance": [],
      "collapsed_sections": [],
      "authorship_tag": "ABX9TyO9OLM1ts1U0Vui9IkjMVs+",
      "include_colab_link": true
    },
    "kernelspec": {
      "name": "python3",
      "display_name": "Python 3"
    },
    "language_info": {
      "name": "python"
    }
  },
  "cells": [
    {
      "cell_type": "markdown",
      "metadata": {
        "id": "view-in-github",
        "colab_type": "text"
      },
      "source": [
        "<a href=\"https://colab.research.google.com/github/rodreras/geopy_minicurso/blob/main/notebooks/PythonGeo_Intro_02.ipynb\" target=\"_parent\"><img src=\"https://colab.research.google.com/assets/colab-badge.svg\" alt=\"Open In Colab\"/></a>"
      ]
    },
    {
      "cell_type": "markdown",
      "source": [
        "## Introdução ao Python\n",
        "\n",
        "Agora, vamos começar com introdução de alguns conceitos, funções e sintaxes da linguagem Python. \n",
        "\n",
        "Esses conceitos são bem importantes e a base de tudo, por isso, **preste bastante atenção**. \n",
        "\n",
        "Lógico que você poderá voltar e rever tais conceitos, uma vez que tudo ficará disponível. \n",
        "\n",
        "### Se tiver dúvidas, não deixe perguntas para depois!\n",
        "\n",
        "Quanto antes tirar suas dúvidas, menos coisas ficarão acumuladas."
      ],
      "metadata": {
        "id": "qOLKUTMYNv81"
      }
    },
    {
      "cell_type": "code",
      "execution_count": null,
      "metadata": {
        "id": "ofNj1IRXNiKe",
        "colab": {
          "base_uri": "https://localhost:8080/"
        },
        "outputId": "f5bdb301-f848-4800-c08e-887aec651a16"
      },
      "outputs": [
        {
          "output_type": "stream",
          "name": "stdout",
          "text": [
            "hello world\n"
          ]
        }
      ],
      "source": [
        "# Por tradição, o primeiro código deve ser sempre um Hello World!\n",
        "# Já está tudo configurado para você inserir \"Olá mundo\" dentro das aspas na linha de código abaixo.\n",
        "# Faça isso e depois aperte CTRL + Enter\n",
        "print('hello world')"
      ]
    },
    {
      "cell_type": "markdown",
      "source": [
        "## 1. Operações Matemáticas com Python\n",
        "\n",
        "- Uma linguagem de programação nos permite fazer N coisas. Uma delas, é fazer somas, divisões, multiplicações, de forma bem simples e fácil.\n",
        "\n",
        "- Vamos ver uns exemplos:"
      ],
      "metadata": {
        "id": "QUwNFnygWted"
      }
    },
    {
      "cell_type": "code",
      "source": [
        "# soma\n",
        "\n",
        "2 + 5"
      ],
      "metadata": {
        "id": "QzSUWPcyWq6F",
        "colab": {
          "base_uri": "https://localhost:8080/"
        },
        "outputId": "d80ad6c4-6beb-41df-d50e-7a2e1f6ea447"
      },
      "execution_count": null,
      "outputs": [
        {
          "output_type": "execute_result",
          "data": {
            "text/plain": [
              "7"
            ]
          },
          "metadata": {},
          "execution_count": 2
        }
      ]
    },
    {
      "cell_type": "code",
      "source": [
        "#subtração\n",
        "\n",
        "485 - 50"
      ],
      "metadata": {
        "id": "vV81Yd55XVY2",
        "colab": {
          "base_uri": "https://localhost:8080/"
        },
        "outputId": "a405ffa3-ec77-43b0-c9e7-9c931b60ff78"
      },
      "execution_count": null,
      "outputs": [
        {
          "output_type": "execute_result",
          "data": {
            "text/plain": [
              "435"
            ]
          },
          "metadata": {},
          "execution_count": 3
        }
      ]
    },
    {
      "cell_type": "code",
      "source": [
        "#multiplicação\n",
        "\n",
        "#desafio: como você acha que deveria ser a multiplicação?\n",
        "\n",
        "#luiz \n",
        "#5 . 3\n",
        "\n",
        "#cynthia victor\n",
        "2 * 2\n"
      ],
      "metadata": {
        "id": "vRUUuIUZXdF3",
        "colab": {
          "base_uri": "https://localhost:8080/"
        },
        "outputId": "c4814631-d7f0-46fe-b840-bde809b8bc84"
      },
      "execution_count": null,
      "outputs": [
        {
          "output_type": "execute_result",
          "data": {
            "text/plain": [
              "4"
            ]
          },
          "metadata": {},
          "execution_count": 5
        }
      ]
    },
    {
      "cell_type": "code",
      "source": [
        "# e a divisão?\n",
        "16/4"
      ],
      "metadata": {
        "id": "ZKobUhCYXixD",
        "colab": {
          "base_uri": "https://localhost:8080/"
        },
        "outputId": "99213c5f-79b3-4ebc-b4e0-68da0d21ed30"
      },
      "execution_count": null,
      "outputs": [
        {
          "output_type": "execute_result",
          "data": {
            "text/plain": [
              "4.0"
            ]
          },
          "metadata": {},
          "execution_count": 6
        }
      ]
    },
    {
      "cell_type": "markdown",
      "source": [
        "Vamos fazer umas operações mais complicadas.\n",
        "\n",
        "Primeiro, vamos definir uma variável chamada `total`, e em seguida, realizar algumas operações."
      ],
      "metadata": {
        "id": "tcQyMQ90c84y"
      }
    },
    {
      "cell_type": "code",
      "source": [
        "total = 20 + 45 + 65 + 89 + 41\n",
        "print(total)"
      ],
      "metadata": {
        "id": "kxC6oX_RcO_v",
        "colab": {
          "base_uri": "https://localhost:8080/"
        },
        "outputId": "77ac0ed7-3fa9-4b2e-83a3-f35e4b565d5e"
      },
      "execution_count": null,
      "outputs": [
        {
          "output_type": "stream",
          "name": "stdout",
          "text": [
            "260\n"
          ]
        }
      ]
    },
    {
      "cell_type": "code",
      "source": [
        "# agora, vamos dividir esse total por 4\n",
        "\n",
        "divisao = total / 4\n",
        "\n",
        "display(divisao)"
      ],
      "metadata": {
        "id": "9UkiBbhukzPX",
        "colab": {
          "base_uri": "https://localhost:8080/",
          "height": 34
        },
        "outputId": "a3254c41-b11f-48eb-f860-59f21e66efe5"
      },
      "execution_count": null,
      "outputs": [
        {
          "output_type": "display_data",
          "data": {
            "text/plain": [
              "43.333333333333336"
            ]
          },
          "metadata": {}
        }
      ]
    },
    {
      "cell_type": "code",
      "source": [
        "print(f' o valor da divisão é {divisao}.')\n"
      ],
      "metadata": {
        "colab": {
          "base_uri": "https://localhost:8080/"
        },
        "id": "n-2yexTQ39gk",
        "outputId": "44fbb9e6-af61-4c7c-b410-a650cd87be53"
      },
      "execution_count": null,
      "outputs": [
        {
          "output_type": "stream",
          "name": "stdout",
          "text": [
            " o valor da divisão é 65.0.\n"
          ]
        }
      ]
    },
    {
      "cell_type": "code",
      "source": [
        "#então, vamos elevá-lo à raíz quadrada\n",
        "\n",
        "sq = divisao**2\n",
        "\n",
        "sq"
      ],
      "metadata": {
        "id": "TxmmYpQBk6EB",
        "colab": {
          "base_uri": "https://localhost:8080/"
        },
        "outputId": "5490a3c8-697c-4b6b-bac5-5bb2f27c7f17"
      },
      "execution_count": null,
      "outputs": [
        {
          "output_type": "execute_result",
          "data": {
            "text/plain": [
              "4225.0"
            ]
          },
          "metadata": {},
          "execution_count": 11
        }
      ]
    },
    {
      "cell_type": "code",
      "source": [
        "#por último, vamos dividir por pi (3.14159265359)\n",
        "\n",
        "pi = 3.14159265359\n",
        "div_pi = sq / pi\n",
        "\n",
        "div_pi"
      ],
      "metadata": {
        "id": "nXLb-wRxlJm5",
        "colab": {
          "base_uri": "https://localhost:8080/"
        },
        "outputId": "a6288c83-6a4e-4be6-caaa-0406a8b81885"
      },
      "execution_count": null,
      "outputs": [
        {
          "output_type": "execute_result",
          "data": {
            "text/plain": [
              "1344.859269126427"
            ]
          },
          "metadata": {},
          "execution_count": 13
        }
      ]
    },
    {
      "cell_type": "code",
      "source": [
        "#agora, arredondar com 2 casas decimais\n",
        "arredondado = round(div_pi, 2)\n",
        "arredondado"
      ],
      "metadata": {
        "id": "pPkGTVD2lWl4",
        "colab": {
          "base_uri": "https://localhost:8080/"
        },
        "outputId": "84a0c812-9d33-454f-9bec-0735794a66cd"
      },
      "execution_count": null,
      "outputs": [
        {
          "output_type": "execute_result",
          "data": {
            "text/plain": [
              "1344.86"
            ]
          },
          "metadata": {},
          "execution_count": 18
        }
      ]
    },
    {
      "cell_type": "code",
      "source": [
        "#uma coisa que poderia fazer também, é dividir por pi, e pedir um resultado com resto zero, ou seja, sem decimais.\n",
        "\n",
        "resto_zero = sq % pi\n",
        "\n",
        "# vou pedir para colocar o resultado real, e só com dois decimais\n",
        "resto_zero, round(resto_zero,2)"
      ],
      "metadata": {
        "id": "nqQgdUX8lfrs",
        "colab": {
          "base_uri": "https://localhost:8080/"
        },
        "outputId": "a4df34c7-1a53-4680-99b1-be6a12e27826"
      },
      "execution_count": null,
      "outputs": [
        {
          "output_type": "execute_result",
          "data": {
            "text/plain": [
              "(2.6994735750399173, 2.7)"
            ]
          },
          "metadata": {},
          "execution_count": 19
        }
      ]
    },
    {
      "cell_type": "markdown",
      "source": [
        "## 2. Tipos de Dados e Identificadores\n",
        "\n",
        "Na linguagem de programação Python, existem diversas formas de representar os dados, tanto numéricos como não numéricos.\n",
        "\n",
        "### Números \n",
        "Quando estamos programando, os números possuem características diferentes, um pouco semelhante com o que vimos em matemática no ensino médio (números reais, números naturais...)\n",
        "\n",
        "- Chamamos de **interger (int)** todo número inteiro, sem casas decimais.\n",
        "  - 5\n",
        "  - 13\n",
        "  - 2022\n",
        "  - 1998\n",
        "  - 645258\n",
        "\n",
        "- Já os números com casas decimais, são denominados de **float**.\n",
        "  - 0.15\n",
        "  - 1.25\n",
        "  - 3.14159265359\n",
        "  - 0.3333333334\n",
        "  - 548.46865168768\n",
        "\n",
        "  > PS: necessariamente o separador decimal sempre será `.`, e não uma vírgula, como estamos acostumados.\n",
        "\n",
        "  ### Palavras, Letras, entre outros\n",
        "\n",
        "  As palavras, letras, textos, e qualquer outra coisa que apareça entre `\"aspas\"`, é denominada **string**.\n",
        "  - `\"granito\"`\n",
        "  - `\"petroleo\"`\n",
        "  - `\"hidrogeologia\"`\n",
        "  - `\"sobe morro cata pedra\"`\n",
        "\n",
        "  E por mais contra intuitivo que pareça, strings também podem receber valores de números. **PORÉM**, não é possível somá-los, uma vez que serão identificados como **strings** e não **float** ou **int**.\n",
        "\n",
        "  Como exemplo, crie uma variável chamada `amostra` e dê a ela o nome de uma rocha.\n",
        "  Em seguida, retorne `amostra` para ver o resultado."
      ],
      "metadata": {
        "id": "5D4f_IEtYTLE"
      }
    },
    {
      "cell_type": "code",
      "source": [
        "amostra = 'itabirito'\n",
        "caracteristica = 'friável'\n",
        "\n",
        "#função para mostrar o resultado se chama print()\n",
        "\n",
        "print(amostra, caracteristica)"
      ],
      "metadata": {
        "id": "LvOHulQOppSV",
        "colab": {
          "base_uri": "https://localhost:8080/"
        },
        "outputId": "d7378909-665a-4d1e-96e1-0eb7b89de890"
      },
      "execution_count": null,
      "outputs": [
        {
          "output_type": "stream",
          "name": "stdout",
          "text": [
            "itabirito friável\n"
          ]
        }
      ]
    },
    {
      "cell_type": "code",
      "source": [
        "print(amostra + ' ' + caracteristica)"
      ],
      "metadata": {
        "id": "JFy2NFhFKgOO",
        "colab": {
          "base_uri": "https://localhost:8080/"
        },
        "outputId": "bd1801a3-eda3-4769-971f-b86ebd03472c"
      },
      "execution_count": null,
      "outputs": [
        {
          "output_type": "stream",
          "name": "stdout",
          "text": [
            "itabirito friável\n"
          ]
        }
      ]
    },
    {
      "cell_type": "code",
      "source": [
        "numero_string = '200'\n",
        "outra_string = '100'\n",
        "numero_int = 50\n",
        "\n",
        "print(numero_string + numero_int)"
      ],
      "metadata": {
        "id": "LggP9sUSK4Kp",
        "colab": {
          "base_uri": "https://localhost:8080/",
          "height": 201
        },
        "outputId": "9fc6ce50-aacb-4feb-9880-a70672b99618"
      },
      "execution_count": null,
      "outputs": [
        {
          "output_type": "error",
          "ename": "TypeError",
          "evalue": "ignored",
          "traceback": [
            "\u001b[0;31m---------------------------------------------------------------------------\u001b[0m",
            "\u001b[0;31mTypeError\u001b[0m                                 Traceback (most recent call last)",
            "\u001b[0;32m<ipython-input-30-da1ee98e6e0e>\u001b[0m in \u001b[0;36m<module>\u001b[0;34m\u001b[0m\n\u001b[1;32m      3\u001b[0m \u001b[0mnumero_int\u001b[0m \u001b[0;34m=\u001b[0m \u001b[0;36m50\u001b[0m\u001b[0;34m\u001b[0m\u001b[0;34m\u001b[0m\u001b[0m\n\u001b[1;32m      4\u001b[0m \u001b[0;34m\u001b[0m\u001b[0m\n\u001b[0;32m----> 5\u001b[0;31m \u001b[0mprint\u001b[0m\u001b[0;34m(\u001b[0m\u001b[0mnumero_string\u001b[0m \u001b[0;34m+\u001b[0m \u001b[0mnumero_int\u001b[0m\u001b[0;34m)\u001b[0m\u001b[0;34m\u001b[0m\u001b[0;34m\u001b[0m\u001b[0m\n\u001b[0m",
            "\u001b[0;31mTypeError\u001b[0m: can only concatenate str (not \"int\") to str"
          ]
        }
      ]
    },
    {
      "cell_type": "code",
      "source": [
        "#vamos ver o resultado de formas diferentes.\n",
        "\n",
        "#printando a soma dos dois números\n",
        "print(numero_string + outra_string)\n",
        "\n",
        "#printando separadamente uma string e um int.\n",
        "print(numero_string, numero_int)"
      ],
      "metadata": {
        "id": "AkLxCgKNLWeT",
        "colab": {
          "base_uri": "https://localhost:8080/"
        },
        "outputId": "ecac3c32-3fc4-4000-bf6d-84b59a738490"
      },
      "execution_count": null,
      "outputs": [
        {
          "output_type": "stream",
          "name": "stdout",
          "text": [
            "200100\n",
            "200 50\n"
          ]
        }
      ]
    },
    {
      "cell_type": "markdown",
      "source": [
        "3. Dados Booleanos\n",
        "\n",
        "\n",
        "Os dados booleanos são um tipo de dado lógico que pode ter apenas um de dois valores possíveis: **verdadeiro ou falso**\n",
        "\n",
        "Geralmente, são utilizados em comparações ou então em estruturas de repetição - que veremos logo mais."
      ],
      "metadata": {
        "id": "VpP8HcMuLzvH"
      }
    },
    {
      "cell_type": "code",
      "source": [
        "#deve retornar Verdadeiro\n",
        "13 < 20"
      ],
      "metadata": {
        "id": "_izfl0O0Nnbw",
        "colab": {
          "base_uri": "https://localhost:8080/"
        },
        "outputId": "0ff27325-16ed-44be-9c96-77c32f315bf8"
      },
      "execution_count": null,
      "outputs": [
        {
          "output_type": "execute_result",
          "data": {
            "text/plain": [
              "True"
            ]
          },
          "metadata": {},
          "execution_count": 32
        }
      ]
    },
    {
      "cell_type": "code",
      "source": [
        "A = 365\n",
        "B = 30\n",
        "\n",
        "print('A é maior que B?')\n",
        "print(A > B)\n",
        "\n",
        "print('A é menor que B?')\n",
        "print(A < B)\n",
        "\n",
        "print('A é diferente de B?')\n",
        "print(A != B)\n",
        "\n",
        "print('A é igual a B?')\n",
        "print( A == B)"
      ],
      "metadata": {
        "id": "4i-irysPOxB4",
        "colab": {
          "base_uri": "https://localhost:8080/"
        },
        "outputId": "f5149d94-aa66-4f1a-9e83-62ff35479987"
      },
      "execution_count": null,
      "outputs": [
        {
          "output_type": "stream",
          "name": "stdout",
          "text": [
            "A é maior que B?\n",
            "True\n",
            "A é menor que B?\n",
            "False\n",
            "A é diferente de B?\n",
            "True\n",
            "A é igual a B?\n",
            "False\n"
          ]
        }
      ]
    },
    {
      "cell_type": "markdown",
      "source": [
        "## 4. Listas\n",
        "\n",
        "Listas são conjuntos de dados que se encontram entre colchetes `[]`, e são separados por vírgula.\n",
        "\n",
        "Quando criamos uma variável chamada `TempoGeologico`, e colocamos as Eras geológicas separadas por vírgulas, temos assim, uma lista.\n",
        "\n",
        "Uma lista pode conter strings e/ou floats.\n"
      ],
      "metadata": {
        "id": "wZVbdt1cPT2A"
      }
    },
    {
      "cell_type": "code",
      "source": [
        "TempoGeologico = ['Hadeano', 'Arqueano', 'Proterozóico']\n"
      ],
      "metadata": {
        "id": "QwGoLXK6jPdi"
      },
      "execution_count": null,
      "outputs": []
    },
    {
      "cell_type": "code",
      "source": [
        "#printando a lista\n",
        "print(TempoGeologico)"
      ],
      "metadata": {
        "id": "Bss3_Egvji3a",
        "colab": {
          "base_uri": "https://localhost:8080/"
        },
        "outputId": "688462c9-c957-4c40-8d32-1a31675faf17"
      },
      "execution_count": null,
      "outputs": [
        {
          "output_type": "stream",
          "name": "stdout",
          "text": [
            "['Hadeano', 'Arqueano', 'Proterozóico']\n"
          ]
        }
      ]
    },
    {
      "cell_type": "markdown",
      "source": [
        "As vezes, é preciso adicionar mais informações à sua lista. Neste caso, ainda faltam algumas Eras. Para isso, utilizaremos a função `append()`."
      ],
      "metadata": {
        "id": "IAuHC6SsjrXM"
      }
    },
    {
      "cell_type": "code",
      "source": [
        "TempoGeologico.append('Paleozóico')\n",
        "TempoGeologico"
      ],
      "metadata": {
        "id": "Rx5-Ivmrj1c7",
        "colab": {
          "base_uri": "https://localhost:8080/"
        },
        "outputId": "db06aeb9-e72f-4a64-b317-55f17fa0bf9b"
      },
      "execution_count": null,
      "outputs": [
        {
          "output_type": "execute_result",
          "data": {
            "text/plain": [
              "['Hadeano', 'Arqueano', 'Proterozóico', 'Paleozóico']"
            ]
          },
          "metadata": {},
          "execution_count": 36
        }
      ]
    },
    {
      "cell_type": "code",
      "source": [
        "#se quisermos adicionar mais de um item, basta usar a função extend\n",
        "TempoGeologico.extend(['Mesozóico','Cenozóico'])\n",
        "TempoGeologico"
      ],
      "metadata": {
        "id": "tlELnZZekGLv",
        "colab": {
          "base_uri": "https://localhost:8080/"
        },
        "outputId": "087bed6d-be12-4247-dff7-2ac691955b8d"
      },
      "execution_count": null,
      "outputs": [
        {
          "output_type": "execute_result",
          "data": {
            "text/plain": [
              "['Hadeano', 'Arqueano', 'Proterozóico', 'Paleozóico', 'Mesozóico', 'Cenozóico']"
            ]
          },
          "metadata": {},
          "execution_count": 37
        }
      ]
    },
    {
      "cell_type": "code",
      "source": [
        "#para verificar quantos registros tem em uma lista, basta aplicar a função len\n",
        "len(TempoGeologico)"
      ],
      "metadata": {
        "colab": {
          "base_uri": "https://localhost:8080/"
        },
        "id": "4Srsy_gXkWb_",
        "outputId": "565af94a-dcb3-4c2a-a58c-06d8268a29e8"
      },
      "execution_count": null,
      "outputs": [
        {
          "output_type": "execute_result",
          "data": {
            "text/plain": [
              "6"
            ]
          },
          "metadata": {},
          "execution_count": 38
        }
      ]
    },
    {
      "cell_type": "markdown",
      "source": [
        "Dependendo do objetivo da sua consulta, as vezes você precisa fazer um fatiamento de uma lista. Dessa forma, é possível acessar um valor ou um conjunto de valores da lista.\n",
        "\n",
        "> Vale lembrar que a contagem dos items em Python sempre começa com 0. Logo, o primeiro item de listas, dicionários, dataframes sempre será índice 0, não o número 1."
      ],
      "metadata": {
        "id": "tpkdbJvgk2rv"
      }
    },
    {
      "cell_type": "code",
      "source": [
        "#escolhendo todos os elementos da lista\n",
        "TempoGeologico[:]"
      ],
      "metadata": {
        "id": "56Jrmg-Kkfga",
        "colab": {
          "base_uri": "https://localhost:8080/"
        },
        "outputId": "6cc2482a-d79a-4a56-a1e8-5dbceab7f99a"
      },
      "execution_count": null,
      "outputs": [
        {
          "output_type": "execute_result",
          "data": {
            "text/plain": [
              "['Hadeano', 'Arqueano', 'Proterozóico', 'Paleozóico', 'Mesozóico', 'Cenozóico']"
            ]
          },
          "metadata": {},
          "execution_count": 39
        }
      ]
    },
    {
      "cell_type": "code",
      "source": [
        "#pegando o primeiro item da lista\n",
        "TempoGeologico[0]"
      ],
      "metadata": {
        "id": "AMWTCei8ljI_",
        "colab": {
          "base_uri": "https://localhost:8080/",
          "height": 35
        },
        "outputId": "31e80832-dfb8-4b1b-d32f-53332e40a590"
      },
      "execution_count": null,
      "outputs": [
        {
          "output_type": "execute_result",
          "data": {
            "text/plain": [
              "'Hadeano'"
            ],
            "application/vnd.google.colaboratory.intrinsic+json": {
              "type": "string"
            }
          },
          "metadata": {},
          "execution_count": 40
        }
      ]
    },
    {
      "cell_type": "code",
      "source": [
        "#os quatro primeiros items da lista\n",
        "TempoGeologico[:4]"
      ],
      "metadata": {
        "id": "nDE0ZIUmloEx",
        "colab": {
          "base_uri": "https://localhost:8080/"
        },
        "outputId": "1ec3051c-375c-44ef-875e-fb69b7bd172c"
      },
      "execution_count": null,
      "outputs": [
        {
          "output_type": "execute_result",
          "data": {
            "text/plain": [
              "['Hadeano', 'Arqueano', 'Proterozóico', 'Paleozóico']"
            ]
          },
          "metadata": {},
          "execution_count": 41
        }
      ]
    },
    {
      "cell_type": "code",
      "source": [
        "#selecionando elementos na lista de 3 em 3\n",
        "TempoGeologico[::3]"
      ],
      "metadata": {
        "id": "mRPIBy2NluSW",
        "colab": {
          "base_uri": "https://localhost:8080/"
        },
        "outputId": "6f423dad-25ea-45b1-db56-3121f387ca15"
      },
      "execution_count": null,
      "outputs": [
        {
          "output_type": "execute_result",
          "data": {
            "text/plain": [
              "['Hadeano', 'Paleozóico']"
            ]
          },
          "metadata": {},
          "execution_count": 42
        }
      ]
    },
    {
      "cell_type": "code",
      "source": [
        "#1 - Desafio: como selecionar apenas os items 4 e 5 de uma lista?\n",
        "TempoGeologico[4:]\n",
        "\n",
        "# 2 - Desafio: Como pegar exatamente o último valor de uma lista \n",
        "#que você não sabe o tamanho dela?\n",
        "TempoGeologico[-1]"
      ],
      "metadata": {
        "id": "bJ20lpzNl3Gx",
        "colab": {
          "base_uri": "https://localhost:8080/"
        },
        "outputId": "6e108073-07e4-46d7-d78c-62da7d4fe96d"
      },
      "execution_count": null,
      "outputs": [
        {
          "output_type": "execute_result",
          "data": {
            "text/plain": [
              "['Mesozóico']"
            ]
          },
          "metadata": {},
          "execution_count": 53
        }
      ]
    },
    {
      "cell_type": "markdown",
      "source": [
        "Removendo elementos de uma lista..."
      ],
      "metadata": {
        "id": "Cl5vN8_VmYi2"
      }
    },
    {
      "cell_type": "code",
      "source": [
        "#Vamos supor que você adicione um item errado e queira remover.\n",
        "\n",
        "TempoGeologico.append('quartzo')\n",
        "\n",
        "#uma forma diferente de retornar todos valores da lista\n",
        "for i in TempoGeologico:\n",
        "  print(i)"
      ],
      "metadata": {
        "id": "K4L9WpePmVqQ",
        "colab": {
          "base_uri": "https://localhost:8080/"
        },
        "outputId": "23c3b219-744c-4343-f3df-9b7f5d7f7ec8"
      },
      "execution_count": null,
      "outputs": [
        {
          "output_type": "stream",
          "name": "stdout",
          "text": [
            "Hadeano\n",
            "Arqueano\n",
            "Proterozóico\n",
            "Paleozóico\n",
            "Mesozóico\n",
            "Cenozóico\n",
            "quartzo\n",
            "quartzo\n",
            "quartzo\n"
          ]
        }
      ]
    },
    {
      "cell_type": "code",
      "source": [
        "# para remover, basta usar a função remove()\n",
        "TempoGeologico.remove('quartzo')"
      ],
      "metadata": {
        "id": "tv0t5PCXmqGS"
      },
      "execution_count": null,
      "outputs": []
    },
    {
      "cell_type": "code",
      "source": [
        "TempoGeologico"
      ],
      "metadata": {
        "id": "SfcO0JQAmvLJ",
        "colab": {
          "base_uri": "https://localhost:8080/"
        },
        "outputId": "e0a32555-c91d-4226-94af-88b479e97d9e"
      },
      "execution_count": null,
      "outputs": [
        {
          "output_type": "execute_result",
          "data": {
            "text/plain": [
              "['Hadeano', 'Arqueano', 'Proterozóico', 'Paleozóico', 'Mesozóico', 'Cenozóico']"
            ]
          },
          "metadata": {},
          "execution_count": 60
        }
      ]
    },
    {
      "cell_type": "markdown",
      "source": [
        "**Listas também podem ter valores numéricos.** \n",
        "Veja o exemplo a seguir de concentração de Cobre no solo em ppm."
      ],
      "metadata": {
        "id": "cAU5ll-ImzNZ"
      }
    },
    {
      "cell_type": "code",
      "source": [
        "cu_ppm = [92.82, 58.90,\n",
        "          170.05, 187.29,\n",
        "          136.55, 141.76,\n",
        "          38.21, 69.65,\n",
        "          160.10, 28.90]\n"
      ],
      "metadata": {
        "id": "Wi_gSolpnB8a"
      },
      "execution_count": null,
      "outputs": []
    },
    {
      "cell_type": "code",
      "source": [
        "# Desafio: Como podemos fazer a média dos valores de Cobre?\n",
        "\n",
        "tamanho = len(cu_ppm)\n",
        "print(tamanho)\n",
        "\n",
        "soma = sum(cu_ppm)\n",
        "print(soma)\n",
        "\n",
        "sum(cu_ppm) / len(cu_ppm)"
      ],
      "metadata": {
        "id": "D1BBTLiOoHdG",
        "colab": {
          "base_uri": "https://localhost:8080/"
        },
        "outputId": "c7a42cb2-c6ae-4bea-cf90-3e5b61a02d41"
      },
      "execution_count": null,
      "outputs": [
        {
          "output_type": "stream",
          "name": "stdout",
          "text": [
            "10\n",
            "1084.23\n"
          ]
        },
        {
          "output_type": "execute_result",
          "data": {
            "text/plain": [
              "108.423"
            ]
          },
          "metadata": {},
          "execution_count": 96
        }
      ]
    },
    {
      "cell_type": "code",
      "source": [
        "#Caso queira os valores em ordem crescente, basta usar a função sorted()\n",
        "sorted(cu_ppm)"
      ],
      "metadata": {
        "id": "cxgViFpgoQ_f",
        "colab": {
          "base_uri": "https://localhost:8080/"
        },
        "outputId": "2a9bb324-d9c8-4a55-88b0-a22051102e05"
      },
      "execution_count": null,
      "outputs": [
        {
          "output_type": "execute_result",
          "data": {
            "text/plain": [
              "[28.9, 38.21, 58.9, 69.65, 92.82, 136.55, 141.76, 160.1, 170.05, 187.29]"
            ]
          },
          "metadata": {},
          "execution_count": 65
        }
      ]
    },
    {
      "cell_type": "markdown",
      "source": [
        "## 5. Tuplas\n",
        "\n",
        "Tuplas são outro tipo de conjunto de dados. Todavia, não podem ser modificados, e estão inseridos dentro de parentesis."
      ],
      "metadata": {
        "id": "Qwz_W_cBPYT7"
      }
    },
    {
      "cell_type": "code",
      "source": [
        "coord = (637790, 7756280, 613)"
      ],
      "metadata": {
        "id": "33pmHjTGo5M_"
      },
      "execution_count": null,
      "outputs": []
    },
    {
      "cell_type": "markdown",
      "source": [
        "Temos um ponto de coordenada, e agora vamos designar os pontos X, Y e Z, para então comparar com outra localização, que será `poi = (637725, 7756411, 689)`."
      ],
      "metadata": {
        "id": "4PpwCt-_o9Kn"
      }
    },
    {
      "cell_type": "code",
      "source": [
        "#transformando valores de uma tupla para valores únicos \n",
        "x, y, z = coord\n",
        "\n",
        "print(x, y, z)"
      ],
      "metadata": {
        "id": "E00eRs0Kpvu6",
        "colab": {
          "base_uri": "https://localhost:8080/"
        },
        "outputId": "aeb0a165-67f3-4c64-b752-09e6327442b3"
      },
      "execution_count": null,
      "outputs": [
        {
          "output_type": "stream",
          "name": "stdout",
          "text": [
            "637790 7756280 613\n"
          ]
        }
      ]
    },
    {
      "cell_type": "code",
      "source": [
        "print(coord)"
      ],
      "metadata": {
        "colab": {
          "base_uri": "https://localhost:8080/"
        },
        "id": "C-cIQLAEB--Y",
        "outputId": "84abdfb3-e4f8-401f-f770-29a10b5a6183"
      },
      "execution_count": null,
      "outputs": [
        {
          "output_type": "stream",
          "name": "stdout",
          "text": [
            "(637790, 7756280, 613)\n"
          ]
        }
      ]
    },
    {
      "cell_type": "code",
      "source": [
        "poi = (637725, 7756411, 689)\n",
        "xp, yp, zp = poi"
      ],
      "metadata": {
        "id": "zPdfkOqIqCdv"
      },
      "execution_count": null,
      "outputs": []
    },
    {
      "cell_type": "code",
      "source": [
        "#calculando a distância\n",
        "dist = (( x - xp)**2 + (y - yp)**2 + (z - zp)**2)**(1/2)\n",
        "\n",
        "print(f'A distância entre as coordenadas é de {dist:.2f} metros.')"
      ],
      "metadata": {
        "id": "DG1NZqgAp7KO",
        "colab": {
          "base_uri": "https://localhost:8080/"
        },
        "outputId": "7774032d-3c4c-4c88-ecf1-be1a32d87b55"
      },
      "execution_count": null,
      "outputs": [
        {
          "output_type": "stream",
          "name": "stdout",
          "text": [
            "A distância entre as coordenadas é de 164.81 metros.\n"
          ]
        }
      ]
    },
    {
      "cell_type": "markdown",
      "source": [
        "## 6. Dicionários\n",
        "\n",
        "Dicionários é a última coleção de dados modificáveis que veremos. Se caracterizam por estarem dentro de `{}`. São diferentes de todos que já temos pois possui uma estrutura de chave e valor.\n",
        "\n",
        "Vamos ver como exemplo, uma amostra de água."
      ],
      "metadata": {
        "id": "ge23Tt5lPYrI"
      }
    },
    {
      "cell_type": "code",
      "source": [
        "hidroquim = {'Ca':45.46,\n",
        "             'Mg': 28.1,\n",
        "             'Na': 134,\n",
        "             'K': 1.95,\n",
        "             'F':2.95,\n",
        "             'FeO': 0.64,\n",
        "             'S': 252.7}"
      ],
      "metadata": {
        "id": "Q2rX0Uv4qez1"
      },
      "execution_count": null,
      "outputs": []
    },
    {
      "cell_type": "code",
      "source": [
        "hidroquim"
      ],
      "metadata": {
        "id": "VmgJ18XBsSbF",
        "colab": {
          "base_uri": "https://localhost:8080/"
        },
        "outputId": "ad4cbdb0-e43f-4537-8f8f-567e71c097a9"
      },
      "execution_count": null,
      "outputs": [
        {
          "output_type": "execute_result",
          "data": {
            "text/plain": [
              "{'Ca': 45.46,\n",
              " 'Mg': 28.1,\n",
              " 'Na': 134,\n",
              " 'K': 1.95,\n",
              " 'F': 2.95,\n",
              " 'FeO': 0.64,\n",
              " 'S': 252.7}"
            ]
          },
          "metadata": {},
          "execution_count": 74
        }
      ]
    },
    {
      "cell_type": "code",
      "source": [
        "#extraindo valor de uma chave\n",
        "hidroquim['FeO']"
      ],
      "metadata": {
        "id": "hDq3WKGBsUrQ",
        "colab": {
          "base_uri": "https://localhost:8080/"
        },
        "outputId": "4da04d2d-a959-45f1-8b01-2d45a933ec15"
      },
      "execution_count": null,
      "outputs": [
        {
          "output_type": "execute_result",
          "data": {
            "text/plain": [
              "0.64"
            ]
          },
          "metadata": {},
          "execution_count": 75
        }
      ]
    },
    {
      "cell_type": "code",
      "source": [
        "#também pode-se modificar o valor de uma chave\n",
        "hidroquim['K'] = 2.89\n",
        "print(hidroquim)"
      ],
      "metadata": {
        "id": "3gIPNaIJsfFA",
        "colab": {
          "base_uri": "https://localhost:8080/"
        },
        "outputId": "7e923a79-f0d4-4b74-fc25-17afb8407d75"
      },
      "execution_count": null,
      "outputs": [
        {
          "output_type": "stream",
          "name": "stdout",
          "text": [
            "{'Ca': 45.46, 'Mg': 28.1, 'Na': 134, 'K': 2.89, 'F': 2.95, 'FeO': 0.64, 'S': 252.7}\n"
          ]
        }
      ]
    },
    {
      "cell_type": "code",
      "source": [
        "#criando uma nova chave\n",
        "hidroquim['Mn'] = 28.1\n",
        "print(hidroquim)"
      ],
      "metadata": {
        "id": "V0Cio0F0sxYz",
        "colab": {
          "base_uri": "https://localhost:8080/"
        },
        "outputId": "dd4954d3-c508-4469-841a-6ab68d79ced1"
      },
      "execution_count": null,
      "outputs": [
        {
          "output_type": "stream",
          "name": "stdout",
          "text": [
            "{'Ca': 45.46, 'Mg': 28.1, 'Na': 134, 'K': 2.89, 'F': 2.95, 'FeO': 0.64, 'S': 252.7, 'Mn': 28.1}\n"
          ]
        }
      ]
    },
    {
      "cell_type": "code",
      "source": [
        "#retornando apenas as chaves do dicionário\n",
        "hidroquim.keys()"
      ],
      "metadata": {
        "id": "GP0oCJh6s8Wz",
        "colab": {
          "base_uri": "https://localhost:8080/"
        },
        "outputId": "0d519618-cf8f-4796-d7cf-8d04f59168c0"
      },
      "execution_count": null,
      "outputs": [
        {
          "output_type": "execute_result",
          "data": {
            "text/plain": [
              "dict_keys(['Ca', 'Mg', 'Na', 'K', 'F', 'FeO', 'S', 'Mn'])"
            ]
          },
          "metadata": {},
          "execution_count": 78
        }
      ]
    },
    {
      "cell_type": "code",
      "source": [
        "#e agora, apenas os valores.\n",
        "hidroquim.values()"
      ],
      "metadata": {
        "id": "xH-8Syk1tAJU",
        "colab": {
          "base_uri": "https://localhost:8080/"
        },
        "outputId": "dc302dbe-47ab-437c-b657-5df7ba403b6c"
      },
      "execution_count": null,
      "outputs": [
        {
          "output_type": "execute_result",
          "data": {
            "text/plain": [
              "dict_values([45.46, 28.1, 134, 2.89, 2.95, 0.64, 252.7, 28.1])"
            ]
          },
          "metadata": {},
          "execution_count": 79
        }
      ]
    },
    {
      "cell_type": "code",
      "source": [
        "hidroquim['FeO']= 0.64\n",
        "hidroquim"
      ],
      "metadata": {
        "colab": {
          "base_uri": "https://localhost:8080/"
        },
        "id": "6fFFzKbKDZrA",
        "outputId": "34f466b3-1925-4269-a306-0160398eaefe"
      },
      "execution_count": null,
      "outputs": [
        {
          "output_type": "execute_result",
          "data": {
            "text/plain": [
              "{'Ca': 45.46,\n",
              " 'Mg': 28.1,\n",
              " 'Na': 134,\n",
              " 'K': 2.89,\n",
              " 'F': 2.95,\n",
              " 'FeO': 0.64,\n",
              " 'S': 252.7,\n",
              " 'Mn': 28.1}"
            ]
          },
          "metadata": {},
          "execution_count": 82
        }
      ]
    },
    {
      "cell_type": "code",
      "source": [
        "#podemos também obter os dados em tuplas\n",
        "hidroquim.items()"
      ],
      "metadata": {
        "id": "WNsiHZiptGpT",
        "colab": {
          "base_uri": "https://localhost:8080/"
        },
        "outputId": "514ecb55-d968-4158-ee15-11f5ae741ffa"
      },
      "execution_count": null,
      "outputs": [
        {
          "output_type": "execute_result",
          "data": {
            "text/plain": [
              "dict_items([('Ca', 45.46), ('Mg', 28.1), ('Na', 134), ('K', 2.89), ('F', 2.95), ('FeO', 0.64), ('S', 252.7), ('Mn', 28.1)])"
            ]
          },
          "metadata": {},
          "execution_count": 83
        }
      ]
    },
    {
      "cell_type": "code",
      "source": [
        "#porém, se quisermos transformar todas as chaves em uma lista, como fazer?\n",
        "#DESAFIO\n",
        "list(hidroquim.keys())"
      ],
      "metadata": {
        "id": "SBrucFj9tN0-",
        "colab": {
          "base_uri": "https://localhost:8080/"
        },
        "outputId": "660f8d09-e42e-4640-d2e2-877b5dee551a"
      },
      "execution_count": null,
      "outputs": [
        {
          "output_type": "execute_result",
          "data": {
            "text/plain": [
              "['Ca', 'Mg', 'Na', 'K', 'F', 'FeO', 'S', 'Mn']"
            ]
          },
          "metadata": {},
          "execution_count": 85
        }
      ]
    },
    {
      "cell_type": "markdown",
      "source": [
        "## 7. Loops e Condicionais\n",
        "\n",
        "  **Loops** são fundamentais para programação. Nos ajudam nas tarefas repetitivas e iterativas. Existem 2 tipos de loops:\n",
        "  - Loops definidos: aqueles que realiza uma tarefa em cada elemento de um conjunto de informações\n",
        "  - Loops indefinidos: loops que ficam ativos até que uma condição deixe de ser verdadeira. É usada como controlador de processos e funções.\n",
        "    Tem algumas palavras reservadas como:\n",
        "    - `while`\n",
        "    - `continue`\n",
        "    - `pass`\n",
        "    - `break`\n",
        "\n",
        "\n",
        "  Vamos criar um loop para printar todos os valores do dicionário recém criado."
      ],
      "metadata": {
        "id": "zdfSYCTVPnTc"
      }
    },
    {
      "cell_type": "code",
      "source": [
        "for key, value in hidroquim.items():\n",
        "  print(f'Elemento {key} tem uma concentração de {value}. \\n')"
      ],
      "metadata": {
        "id": "mOv-tGsI7Yzs",
        "colab": {
          "base_uri": "https://localhost:8080/"
        },
        "outputId": "7627956d-83d7-46cf-9dcc-34db1eb73d6b"
      },
      "execution_count": null,
      "outputs": [
        {
          "output_type": "stream",
          "name": "stdout",
          "text": [
            "Elemento Ca tem uma concentração de 45.46. \n",
            "\n",
            "Elemento Mg tem uma concentração de 28.1. \n",
            "\n",
            "Elemento Na tem uma concentração de 134. \n",
            "\n",
            "Elemento K tem uma concentração de 2.89. \n",
            "\n",
            "Elemento F tem uma concentração de 2.95. \n",
            "\n",
            "Elemento FeO tem uma concentração de 0.64. \n",
            "\n",
            "Elemento S tem uma concentração de 252.7. \n",
            "\n",
            "Elemento Mn tem uma concentração de 28.1. \n",
            "\n"
          ]
        }
      ]
    },
    {
      "cell_type": "code",
      "source": [
        "for i in TempoGeologico:\n",
        "  print(i)"
      ],
      "metadata": {
        "id": "lifCBqVb71Zr",
        "colab": {
          "base_uri": "https://localhost:8080/"
        },
        "outputId": "08cd9a38-0b94-418a-ec90-791d9949b95d"
      },
      "execution_count": null,
      "outputs": [
        {
          "output_type": "stream",
          "name": "stdout",
          "text": [
            "Hadeano\n",
            "Arqueano\n",
            "Proterozóico\n",
            "Paleozóico\n",
            "Mesozóico\n",
            "Cenozóico\n"
          ]
        }
      ]
    },
    {
      "cell_type": "code",
      "source": [
        "rochas = [\"granito\", \"andesito\", \"basalto\", \"sienita\"]\n",
        "\n",
        "while True:\n",
        "    rocha = input(\"Insira o nome da rocha:\")\n",
        "    if rocha in rochas:\n",
        "        break\n",
        "    else:\n",
        "        print(\"O nome inserido não pertence à lista. Tente novamente.\")\n",
        "\n",
        "print(f\"Fim do loop. O nome da rocha é {rocha}\")"
      ],
      "metadata": {
        "id": "-BQ1nSWg74wj",
        "colab": {
          "base_uri": "https://localhost:8080/"
        },
        "outputId": "3681721d-ab9f-4cac-aae2-a8bfeb8ba8b1"
      },
      "execution_count": null,
      "outputs": [
        {
          "output_type": "stream",
          "name": "stdout",
          "text": [
            "Insira o nome da rocha:gnaisse\n",
            "O nome inserido não pertence à lista. Tente novamente.\n",
            "Insira o nome da rocha:granito\n",
            "Fim do loop. O nome da rocha é granito\n"
          ]
        }
      ]
    },
    {
      "cell_type": "markdown",
      "source": [
        "## 8. Criando uma função\n",
        "\n",
        "Quando você cria um script muito longo, as vezes é necessário criar uma função como forma de deixar o código organizado, além de permitir a replicação em outros trabalhos.\n",
        "Para criar uma função, é preciso começar com o termo `def`, seguido pelo nome, e então os valores de input.\n",
        "Os principais termos são:\n",
        "- `def`: define o nome da função\n",
        "- `return` : retorna o resultado da função"
      ],
      "metadata": {
        "id": "xsCjUiG6Pp_D"
      }
    },
    {
      "cell_type": "code",
      "source": [
        "#criando a função\n",
        "def geologia():\n",
        "  print('O presente é a chave do passado.')"
      ],
      "metadata": {
        "id": "5woMAN33Ps2X"
      },
      "execution_count": null,
      "outputs": []
    },
    {
      "cell_type": "code",
      "source": [
        "geologia()"
      ],
      "metadata": {
        "id": "bacBuaml9O45",
        "colab": {
          "base_uri": "https://localhost:8080/"
        },
        "outputId": "25ca624f-f380-4357-f067-6a696b81eb27"
      },
      "execution_count": null,
      "outputs": [
        {
          "output_type": "stream",
          "name": "stdout",
          "text": [
            "O presente é a chave do passado.\n"
          ]
        }
      ]
    },
    {
      "cell_type": "code",
      "source": [
        "def somar_simples(a):\n",
        "  val = a + 4\n",
        "\n",
        "  return val"
      ],
      "metadata": {
        "id": "b96N7-Lq9WBd"
      },
      "execution_count": null,
      "outputs": []
    },
    {
      "cell_type": "code",
      "source": [
        "somar_simples(10)"
      ],
      "metadata": {
        "id": "jmo1JwgeAP-Y",
        "colab": {
          "base_uri": "https://localhost:8080/"
        },
        "outputId": "df1244d6-6348-4840-fe5e-db5598bd3621"
      },
      "execution_count": null,
      "outputs": [
        {
          "output_type": "execute_result",
          "data": {
            "text/plain": [
              "14"
            ]
          },
          "metadata": {},
          "execution_count": 93
        }
      ]
    },
    {
      "cell_type": "code",
      "source": [
        "## exemplo dicionário\n",
        "\n",
        "carDict = {\n",
        "    \"aquiferoGuarani\" : {\n",
        "      \"marca\": 'Ford',\n",
        "      \"modelo\": 'Fusion',\n",
        "      \"eletrico\" : False,\n",
        "      \"ano\" : 2015,\n",
        "      \"cor\" : ['vermelho', 'cinza','preto']    \n",
        "    },\n",
        "\n",
        "  \"aquiferoPiranema\":{\n",
        "      \"marca\": 'Fiat',\n",
        "      \"modelo\": 'Uno',\n",
        "      \"eletrico\" : False,\n",
        "      \"ano\" : 2018,\n",
        "      \"cor\" :'preto'  \n",
        "  },\n",
        "\n",
        "  \"aquiferoUrucuia\":{\n",
        "      \"marca\": 'Nissan',\n",
        "      \"modelo\": 'Leaf',\n",
        "      \"eletrico\" : True,\n",
        "      \"ano\" : 2022,\n",
        "      \"cor\" : 'white'  \n",
        "  }\n",
        "    \n",
        "}"
      ],
      "metadata": {
        "id": "Hghh0bsxGrHf"
      },
      "execution_count": null,
      "outputs": []
    },
    {
      "cell_type": "code",
      "source": [
        "carDict['carro_tres']['ano'] < carDict['carro_dois']['ano']"
      ],
      "metadata": {
        "colab": {
          "base_uri": "https://localhost:8080/"
        },
        "id": "G6il4iA-KZY-",
        "outputId": "5ad52b4b-d7e2-4390-f65b-53f6d72493cb"
      },
      "execution_count": null,
      "outputs": [
        {
          "output_type": "execute_result",
          "data": {
            "text/plain": [
              "False"
            ]
          },
          "metadata": {},
          "execution_count": 108
        }
      ]
    },
    {
      "cell_type": "code",
      "source": [],
      "metadata": {
        "id": "_M5MbjH0LMQ9"
      },
      "execution_count": null,
      "outputs": []
    }
  ]
}
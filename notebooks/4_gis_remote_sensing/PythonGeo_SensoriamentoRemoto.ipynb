{
 "cells": [
  {
   "attachments": {},
   "cell_type": "markdown",
   "metadata": {},
   "source": [
    "[![Binder](https://mybinder.org/badge_logo.svg)](https://mybinder.org/v2/gh/rodreras/geopy_minicurso/HEAD)"
   ]
  },
  {
   "attachments": {},
   "cell_type": "markdown",
   "metadata": {},
   "source": [
    "# Primeiros Passos: Remote Sensing + Python\n",
    "\n",
    "Sensoriamento Remoto é muito útil em trabalhos de geologia, e outra ciências ambientais.\n",
    "\n",
    "Porém, nem sempre é tão trivial lidar com dados raster em Python, já que você começa a lidar com um maior número de dimensões, dificultando a compreensão. \n",
    "\n",
    "Aqui, vamos dar uma pincelada para que você tenha uma ideia inicial e depois possa ir buscar mais conteúdo sobre isso. Saiba que existe um universo de dados e conteúdo para explorar e aplicar nos seus estudos. \n",
    "\n"
   ]
  },
  {
   "cell_type": "code",
   "execution_count": null,
   "metadata": {},
   "outputs": [],
   "source": [
    "import geopandas as gpd\n",
    "import pandas as pd\n",
    "import matplotlib.pyplot as plt\n",
    "import numpy as np\n",
    "\n",
    "#biblioteca para lidar com dados raster\n",
    "import rasterio as rio\n",
    "from rasterio.plot import show, show_hist, reshape_as_raster\n",
    "\n",
    "import earthpy.spatial as es\n",
    "import earthpy.plot as ep\n",
    "import earthpy as et\n",
    "\n",
    "#para baixar a imagem\n",
    "import urllib.request\n",
    "import os"
   ]
  },
  {
   "cell_type": "code",
   "execution_count": null,
   "metadata": {},
   "outputs": [],
   "source": [
    "#como a imagem é grande, e não é recomendável deixar no repositório\n",
    "#eu salvei no meu gdrive, e através da biblioteca request\n",
    "#estamos fazendo o donwload dela para a pasta Dados.\n",
    "\n",
    "url_imagem = 'http://rodrigobrust.com/wp-content/uploads/2023/06/landsat5_empilhada.tif'\n",
    "\n",
    "os.mkdir('./Dados/')\n",
    "\n",
    "caminho = \"./Dados/\"  \n",
    "\n",
    "nome_arquivo = 'landsat5_empilhada.tif'  # definindo o nome do arquivo\n",
    "\n",
    "salvando = os.path.join(caminho, nome_arquivo)  # criando o local para salvar\n",
    "\n",
    "urllib.request.urlretrieve(url_imagem, salvando)  # Fazendo Download e salvando\n",
    "\n",
    "print(\"Arquivo baixado com sucesso!\")"
   ]
  },
  {
   "cell_type": "code",
   "execution_count": null,
   "metadata": {},
   "outputs": [],
   "source": [
    "#aqui já tem um arquivo raster com 5 bandas empilhadas.\n",
    "img = './Dados/landsat5_empilhada.tif'"
   ]
  },
  {
   "cell_type": "code",
   "execution_count": null,
   "metadata": {},
   "outputs": [],
   "source": [
    "#abrindo raster empilhado\n",
    "with rio.open(img) as src:\n",
    "    bandas = src.read()\n",
    "    #copiando os metadados da imagem raster\n",
    "    out_meta = src.profile\n",
    "\n"
   ]
  },
  {
   "cell_type": "code",
   "execution_count": null,
   "metadata": {},
   "outputs": [],
   "source": [
    "#usando a funçao do earthplot para plotar todas as bandas do arquivo\n",
    "ep.plot_bands(bandas,\n",
    "              cbar=False,\n",
    "              cmap = 'gist_earth')\n",
    "plt.show()"
   ]
  },
  {
   "attachments": {},
   "cell_type": "markdown",
   "metadata": {},
   "source": [
    "## Fazendo as primeiras composições\n",
    "\n",
    "Uma coisa importante! Por mais que as bandas sejam de 1 a 6, quando fizermos o código para plotar, temos que pensar que o Python trabalha com índices. Ou seja, as bandas serão entendidas de 0 a 5."
   ]
  },
  {
   "cell_type": "code",
   "execution_count": null,
   "metadata": {},
   "outputs": [],
   "source": [
    "#criando um grid de 2 figuras\n",
    "fig, ax = plt.subplots(ncols=2, nrows=1, figsize=(10,8), sharey=True)\n",
    "\n",
    "#figura 0,0\n",
    "ep.plot_rgb(bandas,\n",
    "            rgb=[2,3,1],\n",
    "            stretch=True,\n",
    "            figsize=(5, 6),\n",
    "            ax=ax[0],\n",
    "            title=\"RGB Para Agricultura\")\n",
    "\n",
    "#figura 0,1\n",
    "ep.plot_rgb(bandas,\n",
    "            rgb=[2,1,0],\n",
    "            stretch=True,\n",
    "            figsize=(5, 6),\n",
    "            ax=ax[1],\n",
    "            title=\"RGB True Color Image\")\n",
    "\n",
    "plt.show()"
   ]
  },
  {
   "attachments": {},
   "cell_type": "markdown",
   "metadata": {},
   "source": [
    "# Gerando Histogramas para cada banda"
   ]
  },
  {
   "cell_type": "code",
   "execution_count": null,
   "metadata": {},
   "outputs": [],
   "source": [
    "ep.hist(bandas,\n",
    "        title=[f'Banda-{i+1}' for i in range(1, 7)], \n",
    "        cols=3, \n",
    "        alpha=0.5, \n",
    "        figsize = (12, 10))\n",
    "\n",
    "plt.show()"
   ]
  },
  {
   "attachments": {},
   "cell_type": "markdown",
   "metadata": {},
   "source": [
    "# Salvando imagem"
   ]
  },
  {
   "cell_type": "code",
   "execution_count": null,
   "metadata": {},
   "outputs": [],
   "source": [
    "#empilhando as bandas com numpy\n",
    "rgb = np.stack((bandas[2], bandas[1], bandas[0]))"
   ]
  },
  {
   "cell_type": "code",
   "execution_count": null,
   "metadata": {},
   "outputs": [],
   "source": [
    "# atualizando metadata\n",
    "out_meta.update({\"driver\": \"GTiff\",\n",
    "            \"height\": bandas.shape[1],\n",
    "            \"width\": bandas.shape[2],\n",
    "            \"count\":3,\n",
    "            })\n",
    "\n",
    "\n",
    "\n",
    "# salvando o arquvi\n",
    "with rio.open('./Dados/RGB_image.tif', \"w\", **out_meta) as dest:\n",
    "   \n",
    "    dest.write(rgb, #aqui, colocamos onde a imagem foi empilhada, no caso rgb\n",
    "                [1,2,3] #aqui indicamos a quantidade de bandas e a ordem\n",
    "                )"
   ]
  },
  {
   "attachments": {},
   "cell_type": "markdown",
   "metadata": {},
   "source": [
    "## Teste! \n",
    "\n",
    "Agora que você já exportou a sua imagem, abra o QGIS e carregue a imagem. Ela vai abrir já como RGB composição cor verdadeira."
   ]
  }
 ],
 "metadata": {
  "kernelspec": {
   "display_name": "spatial",
   "language": "python",
   "name": "python3"
  },
  "language_info": {
   "codemirror_mode": {
    "name": "ipython",
    "version": 3
   },
   "file_extension": ".py",
   "mimetype": "text/x-python",
   "name": "python",
   "nbconvert_exporter": "python",
   "pygments_lexer": "ipython3",
   "version": "3.9.15"
  },
  "orig_nbformat": 4
 },
 "nbformat": 4,
 "nbformat_minor": 2
}

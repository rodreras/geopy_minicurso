{
 "cells": [
  {
   "cell_type": "markdown",
   "metadata": {},
   "source": [
    "# **Minicurso: Introdução à Geologia De Sensoriamento Remoto com Python**\n",
    "\n",
    "---\n",
    "\n",
    "**XXXIV Semana de Estudos Geológicos da Universidade Federal Rural do Rio de Janeiro (SEGEO)**\n",
    "\n",
    "### _Rodrigo Brust Santos_\n",
    "\n",
    "#### Setembro 2024\n",
    "\n",
    "---\n",
    "\n",
    "**Tópicos:**\n",
    "01) Introdução ao Sensoriamento Remoto & Python\n",
    "02) Manipulando rasters\n",
    "03) Índices de bandas, diferenças normalizadas, composições RGB\n",
    "04) Sensoriamento Remoto Aplicado à Geologia\n",
    "\n",
    "---"
   ]
  },
  {
   "cell_type": "markdown",
   "metadata": {},
   "source": [
    "## 1 - Carregando Imagens de Satélite"
   ]
  },
  {
   "cell_type": "markdown",
   "metadata": {},
   "source": [
    "As imagens de satélite são armazenadas em formato raster, onde cada pixel contém valores de intensidade para bandas espectrais distintas (ex: banda vermelha, verde, azul, infravermelho, etc.). O carregamento correto dessas bandas é essencial para realizar análises mais aprofundadas.\n",
    "\n",
    "**Passo a passo:**\n",
    "\n",
    "a) Bibliotecas: Utilizaremos o rasterio para ler imagens de satélite no formato GeoTIFF, uma das formas mais comuns de armazenar dados raster.\n",
    "\n",
    "b) Carregamento de bandas: Leremos bandas individuais da imagem.\n",
    "\n",
    "c) Visualização simples: Usaremos matplotlib para visualizar uma banda como uma imagem em escala de cinza."
   ]
  },
  {
   "cell_type": "code",
   "execution_count": 2,
   "metadata": {},
   "outputs": [
    {
     "name": "stdout",
     "output_type": "stream",
     "text": [
      "Arquivo baixado com sucesso!\n"
     ]
    }
   ],
   "source": [
    "#para baixar a imagem\n",
    "import urllib.request\n",
    "import os\n",
    "\n",
    "url_imagem = 'http://rodrigobrust.com/wp-content/uploads/2023/06/landsat5_empilhada.tif'\n",
    "\n",
    "if not os.path.exists(caminho): \n",
    "    os.makedirs('./Dados/')\n",
    "\n",
    "caminho = \"./Dados/\"  \n",
    "\n",
    "nome_arquivo = 'landsat5_empilhada.tif'  # definindo o nome do arquivo\n",
    "\n",
    "salvando = os.path.join(caminho, nome_arquivo)  # criando o local para salvar\n",
    "\n",
    "urllib.request.urlretrieve(url_imagem, salvando)  # Fazendo Download e salvando\n",
    "\n",
    "print(\"Arquivo baixado com sucesso!\")"
   ]
  },
  {
   "cell_type": "code",
   "execution_count": null,
   "metadata": {},
   "outputs": [],
   "source": [
    "import rasterio\n",
    "import matplotlib.pyplot as plt\n",
    "\n",
    "# Carregar a imagem de satélite (GeoTIFF)\n",
    "img_path = './Dados/landsat5_empilhada.tif' \n",
    "\n",
    "#Entendendo como funciona o direcionamento do arquivo:\n",
    "\n",
    "# o . significa que a pasta que queremos acessar está no mesmo local (pasta) que o arquivo atual\n",
    "# depois indicamos a pasta a ser acessada. No caso, ela se chama Dados.\n",
    "# por fim, acessamos-a, seguido pelo nome do arquivo com a extensão\n",
    "\n",
    "# Abrindo o arquivo com rasterio\n",
    "with rasterio.open(img_path) as src:\n",
    "    # Lendo a primeira banda\n",
    "    banda1 = src.read(1)\n",
    "\n",
    "# Plotando a primeira banda\n",
    "plt.imshow(banda1, cmap='gray')\n",
    "plt.colorbar()\n",
    "plt.title(\"Visualização da Banda 1 - Azul\")\n",
    "plt.show()\n"
   ]
  },
  {
   "cell_type": "markdown",
   "metadata": {},
   "source": [
    "Exercício:\n",
    "\n",
    "Carregar as bandas RGB, NIR, SWIR1 e SWIR2 do arquivo `img_path` e plotar as bandas RGB individualmente.\n",
    "\n",
    "Para saber as bandas do Landsat-5, [acesse a documentação](https://www.usgs.gov/landsat-missions/landsat-5)"
   ]
  },
  {
   "cell_type": "code",
   "execution_count": null,
   "metadata": {},
   "outputs": [],
   "source": [
    "# Carregar a imagem de satélite (GeoTIFF)\n",
    "img_path = \n",
    "\n",
    "# Abrindo o arquivo com rasterio\n",
    "with rasterio.open(img_path) as src:\n",
    "    # Lendo a primeira banda\n",
    "    banda1 = src.read(1)\n",
    "    #...\n",
    "    #Dica: crie a variável com o nome da banda.\n",
    "\n",
    "# Plotando a primeira banda\n",
    "plt.imshow(banda1, cmap='gray')\n",
    "plt.colorbar()\n",
    "plt.title(\"Visualização da Banda 1\")\n",
    "plt. \n",
    ".\n",
    ".\n",
    ".\n",
    "\n",
    "plt.show()"
   ]
  },
  {
   "cell_type": "markdown",
   "metadata": {},
   "source": [
    "## 2 - Aplicação de Histogram Stretching para Melhorar a Visualização\n",
    "\n",
    "O histogram stretching é uma técnica de aprimoramento de imagens usada para aumentar o contraste, mapeando os valores dos pixels para um intervalo maior, geralmente de 0 a 255. Isso é útil quando os valores de pixel estão concentrados em uma faixa pequena e a imagem parece \"apagada\".\n",
    "\n",
    "**Passo a passo:**\n",
    "\n",
    "a) Distribuição de pixel: Ver como os valores estão distribuídos.\n",
    "\n",
    "b) Stretching linear: Estender o intervalo de valores para cobrir toda a faixa possível (0-255).\n",
    "\n",
    "c) Visualização melhorada: Replotar a imagem com os ajustes aplicados.\n"
   ]
  },
  {
   "cell_type": "code",
   "execution_count": null,
   "metadata": {},
   "outputs": [],
   "source": [
    "import numpy as np\n",
    "\n",
    "# Função para aplicar o stretching\n",
    "def stretch_histogram(band, min_out=0, max_out=255):\n",
    "    min_in, max_in = np.percentile(band, (2, 98))  # Considerando 2% - 98% para evitar outliers\n",
    "    stretched = (band - min_in) * ((max_out - min_out) / (max_in - min_in)) + min_out\n",
    "    stretched = np.clip(stretched, min_out, max_out)\n",
    "    return stretched\n",
    "\n",
    "# Aplicar o stretching à banda 1\n",
    "banda1_stretched = stretch_histogram(banda1)\n",
    "\n",
    "# Plotando o resultado\n",
    "plt.imshow(banda1_stretched, cmap='gray')\n",
    "plt.colorbar()\n",
    "plt.title(\"Banda 1 com Histogram Stretching\")\n",
    "plt.show()\n",
    "\n"
   ]
  },
  {
   "cell_type": "markdown",
   "metadata": {},
   "source": [
    "Exercício:\n",
    "\n",
    "Aplique o histogram stretching às bandas Verde e Vermelha, carregadas anteriormente e compare a visualização antes e depois da transformação."
   ]
  },
  {
   "cell_type": "code",
   "execution_count": null,
   "metadata": {},
   "outputs": [],
   "source": [
    "banda2_stretched = \n",
    "\n",
    "banda3_stretched = \n",
    "\n",
    "#plote as imagens abaixo: \n",
    "\n",
    "\n"
   ]
  },
  {
   "cell_type": "markdown",
   "metadata": {},
   "source": [
    "## 3 - Criação de Composições RGB Distintas\n",
    "\n",
    "Uma composição RGB é feita combinando três bandas distintas (geralmente vermelho, verde e azul) para criar uma imagem colorida. Dependendo das bandas escolhidas, podemos obter composições naturais ou falsas cores (por exemplo, RGB com infravermelho).\n",
    "\n",
    "\n",
    "**Passo a passo:**\n",
    "\n",
    "a) Combinação de bandas: Selecionar três bandas e combiná-las para formar uma imagem colorida.\n",
    "\n",
    "b) RGB Natural vs. Falsa Cor: Usar diferentes bandas para criar composições com interpretações diferentes."
   ]
  },
  {
   "cell_type": "code",
   "execution_count": null,
   "metadata": {},
   "outputs": [],
   "source": [
    "# Criando a composição RGB\n",
    "rgb = np.dstack((banda3, banda2, banda1))\n",
    "\n",
    "# Normalizar os valores para [0, 1] para visualização\n",
    "rgb_norm = rgb / np.max(rgb)\n",
    "\n",
    "# Plotando a imagem RGB\n",
    "plt.imshow(rgb_norm)\n",
    "plt.title(\"Composição RGB Natural\")\n",
    "plt.show()"
   ]
  },
  {
   "cell_type": "markdown",
   "metadata": {},
   "source": [
    "Exercício:\n",
    "\n",
    "Crie uma composição RGB em falsa cor, utilizando bandas como o infravermelho, e compare com a composição de cores naturais. Por exemplo, para Landsat 8, use as bandas 5 (infravermelho próximo), 4 (vermelho), e 3 (verde). Como usamos imagem do Landsat 5, veja as bandas equivalentes aqui: [Awesome Spectral Indices](https://awesome-ee-spectral-indices.readthedocs.io/en/latest/index.html#expressions)"
   ]
  },
  {
   "cell_type": "code",
   "execution_count": null,
   "metadata": {},
   "outputs": [],
   "source": [
    "def normalize():\n",
    "    return "
   ]
  },
  {
   "cell_type": "code",
   "execution_count": null,
   "metadata": {},
   "outputs": [],
   "source": [
    "l_543 = np....."
   ]
  },
  {
   "cell_type": "markdown",
   "metadata": {},
   "source": [
    "Extra: faça o Histogram Stretching para ver o resultado da composição RGB. "
   ]
  },
  {
   "cell_type": "code",
   "execution_count": null,
   "metadata": {},
   "outputs": [],
   "source": []
  },
  {
   "cell_type": "markdown",
   "metadata": {},
   "source": [
    "Exercício: \n",
    "\n",
    "Crie a composição para Geologia do Sentinel-2. [Veja aqui a lista com as combinações](https://gisgeography.com/sentinel-2-bands-combinations/). \n",
    "\n",
    "Se conseguiste fazer a primeira rapidamente, teste outras composições."
   ]
  },
  {
   "cell_type": "code",
   "execution_count": null,
   "metadata": {},
   "outputs": [],
   "source": []
  }
 ],
 "metadata": {
  "kernelspec": {
   "display_name": "geopy",
   "language": "python",
   "name": "python3"
  },
  "language_info": {
   "codemirror_mode": {
    "name": "ipython",
    "version": 3
   },
   "file_extension": ".py",
   "mimetype": "text/x-python",
   "name": "python",
   "nbconvert_exporter": "python",
   "pygments_lexer": "ipython3",
   "version": "3.9.18"
  }
 },
 "nbformat": 4,
 "nbformat_minor": 2
}

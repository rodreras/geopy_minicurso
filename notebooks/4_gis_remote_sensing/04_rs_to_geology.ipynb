{
 "cells": [
  {
   "cell_type": "markdown",
   "metadata": {},
   "source": [
    "# **Minicurso: Introdução à Geologia De Sensoriamento Remoto com Python**\n",
    "\n",
    "---\n",
    "\n",
    "**XXXIV Semana de Estudos Geológicos da Universidade Federal Rural do Rio de Janeiro (SEGEO)**\n",
    "\n",
    "### _Rodrigo Brust Santos_\n",
    "\n",
    "#### Setembro 2024\n",
    "\n",
    "---\n",
    "\n",
    "**Tópicos:**\n",
    "01) Introdução ao Sensoriamento Remoto & Python\n",
    "02) Manipulando rasters\n",
    "03) Índices de bandas, diferenças normalizadas, composições RGB\n",
    "04) Sensoriamento Remoto Aplicado à Geologia\n",
    "\n",
    "---"
   ]
  },
  {
   "cell_type": "markdown",
   "metadata": {},
   "source": [
    "## 1 - Aplicação dos Conceitos em Regiões Específicas para Mineração\n",
    "\n",
    "\n",
    "O sensoriamento remoto é uma ferramenta valiosa na exploração mineral, pois permite a identificação de padrões espectrais associados a diferentes tipos de minerais e formações geológicas. Em áreas de mineração, band ratios e índices como o Índice de Alteração de Ferro e o Índice de Óxidos de Ferro podem ser utilizados para identificar zonas com potencial de mineralização.\n",
    "\n",
    "**Passo a passo:**\n",
    "\n",
    "- Identificação de áreas de interesse: Usar dados de satélite de regiões conhecidas por atividades minerais.\n",
    "- Band Ratios: Calcular ratios específicos que ajudam a identificar minerais comuns em processos de mineração (ex.: óxidos de ferro, minerais argilosos).\n",
    "- Interpretação geológica: Analisar os resultados para identificar áreas com alta probabilidade de conter depósitos minerais."
   ]
  },
  {
   "cell_type": "code",
   "execution_count": 1,
   "metadata": {},
   "outputs": [],
   "source": [
    "import rasterio\n",
    "import numpy as np\n",
    "import matplotlib.pyplot as plt\n",
    "import os\n",
    "import gdrive_downloader"
   ]
  },
  {
   "cell_type": "code",
   "execution_count": null,
   "metadata": {},
   "outputs": [],
   "source": [
    "#baixar imagem do gdrive\n",
    "\n",
    "download_file_from_google_drive('https://drive.google.com/file/d/1LfhfVUgrjYw8AQzIhByNccJbqslvkXCg/view?usp=sharing',\n",
    "                                os.getcwd() + '/Dados/geologia_libia.tif')"
   ]
  },
  {
   "cell_type": "code",
   "execution_count": 7,
   "metadata": {},
   "outputs": [],
   "source": [
    "def normalize(image):\n",
    "    return (image - np.min(image)) / (np.max(image) - np.min(image))"
   ]
  },
  {
   "cell_type": "code",
   "execution_count": null,
   "metadata": {},
   "outputs": [],
   "source": [
    "# Carregar bandas relevantes (ex.: NIR e SWIR)\n",
    "\n",
    "img_path = './Dados/L9_20240915_STACKED_Libia2.tif'\n",
    "\n",
    "with rasterio.open(img_path) as src:\n",
    "    blue = src.read(1)\n",
    "    red = src.read(3)\n",
    "    nir = src.read(5)\n",
    "    swir = src.read(6)\n",
    "    swir2 = src.read(7)\n",
    "\n",
    "    #(R/B)*((R+S1)/N)\n",
    "\n",
    "# Calcular um índice de óxido de ferro \n",
    "epsilon = 1e-10  # Evitar divisão por zero\n",
    "iron_ferric = (red / blue) * ((red + swir) / (nir + epsilon))\n",
    "\n",
    "# Plotar o índice\n",
    "plt.imshow(iron_ferric, cmap='Reds_r')\n",
    "plt.colorbar()\n",
    "plt.title(\"Índice de Óxido de Ferro - Redness\")\n",
    "plt.show()\n"
   ]
  },
  {
   "cell_type": "markdown",
   "metadata": {},
   "source": [
    "**Exercício**:\n",
    "\n",
    "Use imagens de satélite de uma região de mineração e calcule o índice de alteração de ferro (ou outro índice relevante). Identifique visualmente áreas com potencial mineral."
   ]
  },
  {
   "cell_type": "code",
   "execution_count": null,
   "metadata": {},
   "outputs": [],
   "source": [
    "url = 'http://rodrigobrust.com/wp-content/uploads/2024/09/Rmount.tif'\n",
    "\n",
    "#baixe a imagem conforme fizemos antes e faça outro índice"
   ]
  },
  {
   "cell_type": "markdown",
   "metadata": {},
   "source": [
    "## 2 - Identificação de Diferenças Litológicas em Regiões Desérticas/Semi-desérticas\n",
    "\n",
    "Em regiões desérticas e semi-desérticas, onde a vegetação é esparsa, o sensoriamento remoto pode ser usado para mapear diferenças litológicas com base nas respostas espectrais dos materiais da superfície. A análise de composições RGB permitem a distinção de diferentes formações rochosas e minerais de superfície.\n",
    "\n",
    "**Passo a passo:**\n",
    "\n",
    "- Selecionar bandas apropriadas: Em regiões áridas, as bandas do infravermelho médio (SWIR) e infravermelho próximo (NIR) são úteis para identificar argilas e outros minerais de superfície.\n",
    "- Composição RGB: Criar composições de falsas cores para destacar diferenças litológicas.\n",
    "- Aplicação de índices: Calcular índices que realçam minerais argilosos e alterações superficiais."
   ]
  },
  {
   "cell_type": "code",
   "execution_count": 31,
   "metadata": {},
   "outputs": [],
   "source": [
    "def stretch_histogram(band, min_out=0, max_out=255):\n",
    "    min_in, max_in = np.percentile(band, (2, 98))  # Considerando 2% - 98% para evitar outliers\n",
    "    stretched = (band - min_in) * ((max_out - min_out) / (max_in - min_in)) + min_out\n",
    "    stretched = np.clip(stretched, min_out, max_out)\n",
    "    return stretched"
   ]
  },
  {
   "cell_type": "code",
   "execution_count": null,
   "metadata": {},
   "outputs": [],
   "source": [
    "# Carregar bandas SWIR e NIR\n",
    "#with rasterio.open(img_path) as src:\n",
    "#    swir = src.read(6)\n",
    "#    nir = src.read(5)\n",
    "\n",
    "# Composição RGB para diferenciação litológica\n",
    "rgb_lithology = np.dstack((stretch_histogram(normalize(swir)), \n",
    "                           stretch_histogram(normalize(nir)), \n",
    "                           stretch_histogram(normalize(nir/2))\n",
    "                           )\n",
    "                        )\n",
    "\n",
    "# Plotar a composição\n",
    "plt.imshow(rgb_lithology / np.max(rgb_lithology))\n",
    "plt.title(\"Composição RGB - Diferenças Litológicas\")\n",
    "plt.show()"
   ]
  },
  {
   "cell_type": "markdown",
   "metadata": {},
   "source": [
    "**Exercício:**\n",
    "\n",
    "Usando uma imagem de satélite acima, crie uma composição RGB para verificar se há constrastes entre rochas máficas/félsicas  na região. Nunca testei, será a primeira vez (:\n",
    "\n",
    "[Veja aqui como se calcula o índice de Abrams](https://github.com/rodreras/awesome-mining-band-ratio?tab=readme-ov-file#rgb-composition-and-band-ratio-for-landsat-8-9-and-sentinel-2)"
   ]
  },
  {
   "cell_type": "code",
   "execution_count": null,
   "metadata": {},
   "outputs": [],
   "source": []
  },
  {
   "cell_type": "markdown",
   "metadata": {},
   "source": [
    "# Exercício para praticar depois: \n",
    "\n",
    "Abaixo, temos a url com as imagens raster de uma região na Mauritânia, próximo ao [trem mais longo do mundo](https://pt.wikipedia.org/wiki/Ferrovia_da_Maurit%C3%A2nia), com aproximadamente 3km, resopnsável por carregar Ferro até o litoral. \n",
    "\n",
    "O satélite é o Aster, por isso, precisam levar em consideração [esta tabela](https://github.com/rodreras/awesome-mining-band-ratio?tab=readme-ov-file#aster-band-ratios). Muito provavelmente, os índices que envolvam o NIR, Vermelho e SWIR (mais voltados para Ferro, por exemplo), apresentarão os melhores resultados, especialmente por conta do corpo maciço que há na região. Todavia, testem outros índices para ver como se comporta diferente em relação ao satélite que usamos anteriormente, que foi o Landasat (multiespectral)"
   ]
  },
  {
   "cell_type": "code",
   "execution_count": null,
   "metadata": {},
   "outputs": [],
   "source": [
    "url_aster = ''"
   ]
  }
 ],
 "metadata": {
  "kernelspec": {
   "display_name": "spatialenv",
   "language": "python",
   "name": "python3"
  },
  "language_info": {
   "codemirror_mode": {
    "name": "ipython",
    "version": 3
   },
   "file_extension": ".py",
   "mimetype": "text/x-python",
   "name": "python",
   "nbconvert_exporter": "python",
   "pygments_lexer": "ipython3",
   "version": "3.9.18"
  }
 },
 "nbformat": 4,
 "nbformat_minor": 2
}

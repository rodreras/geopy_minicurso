{
  "nbformat": 4,
  "nbformat_minor": 0,
  "metadata": {
    "colab": {
      "provenance": [],
      "collapsed_sections": [],
      "include_colab_link": true
    },
    "kernelspec": {
      "name": "python3",
      "display_name": "Python 3"
    },
    "language_info": {
      "name": "python"
    }
  },
  "cells": [
    {
      "cell_type": "markdown",
      "metadata": {
        "id": "view-in-github",
        "colab_type": "text"
      },
      "source": [
        "<a href=\"https://colab.research.google.com/github/rodreras/geopy_minicurso/blob/main/notebooks/PythonGeo_Intro_01.ipynb\" target=\"_parent\"><img src=\"https://colab.research.google.com/assets/colab-badge.svg\" alt=\"Open In Colab\"/></a>"
      ]
    },
    {
      "cell_type": "markdown",
      "source": [
        "# Hello World! Olá, mundo!\n",
        "\n",
        "- Bem vindo ao Minicurso de Python para Geologia da [XXX SEGEO da UFRRJ](https://www.even3.com.br/30_segeoufrrj/)\n",
        "\n",
        "Esse será nosso ambiente de estudo: o Google Collab.\n",
        "\n",
        "Nele, além do código, podemos usar o **markdown**, para documentar nosso código.\n",
        "\n",
        "  - Com ele, podemos usar diversas configurações de escrita, permitindo que o nosso notebook fique interativo, bonito e organizado.\n",
        "\n",
        "* Por exemplo, podemos usar diversas formatações, como essas abaixo:\n",
        "\n",
        "   This is **bold**.\n",
        "\n",
        "   This is *italic*.\n",
        "\n",
        "   This is ~strikethrough~.\n",
        "\n",
        "Também, pode ser uma ótima forma de organizar as tarefas que precisamos fazer no nosso código:\n",
        "\n",
        "- [x] 1. Introdução ao python\n",
        "\n",
        "- [x] 2. Introdução às bibliotecas \n",
        "\n",
        "- Além de permitir colocar alguns exemplos de código, como esse abaixo, que será muito útil daqui a pouco quando formos conectar o google drive a este notebook.\n",
        "\n",
        "```python \n",
        "# Run this cell to mount your Google Drive.\n",
        "from google.colab import drive\n",
        "drive.mount('/content/drive')\n",
        "```\n",
        "\n",
        "___\n",
        "\n",
        "## Vamos seguindo, e fazer o exemplo que acabamos de ver nos slides, para então partir para o que realmente interessa.\n",
        "\n",
        "#### Dica: para rodar as células, pode tanto apertar no botão de \"play\", quanto apertar CTRL + Enter."
      ],
      "metadata": {
        "id": "pHW_Lbd-JywS"
      }
    },
    {
      "cell_type": "code",
      "source": [
        "import time\n",
        "print(time.ctime())"
      ],
      "metadata": {
        "colab": {
          "base_uri": "https://localhost:8080/"
        },
        "id": "_FuYN9ym0uvN",
        "outputId": "1f168919-1e1a-4628-e07e-723a0a5a3470"
      },
      "execution_count": null,
      "outputs": [
        {
          "output_type": "stream",
          "name": "stdout",
          "text": [
            "Sat Nov  5 12:46:48 2022\n"
          ]
        }
      ]
    }
  ]
}
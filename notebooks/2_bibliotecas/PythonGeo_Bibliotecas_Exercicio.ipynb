{
  "cells": [
    {
      "attachments": {},
      "cell_type": "markdown",
      "metadata": {
        "colab_type": "text",
        "id": "view-in-github"
      },
      "source": [
        "[![Binder](https://mybinder.org/badge_logo.svg)](https://mybinder.org/v2/gh/rodreras/geopy_minicurso/HEAD)"
      ]
    },
    {
      "attachments": {},
      "cell_type": "markdown",
      "metadata": {
        "id": "MVoJKOxrcvp5"
      },
      "source": [
        "# Exercício\n",
        "\n",
        "Bom, já vimos um monte de conteúdo até aqui, e precisamos fixar algumas coisas.\n",
        "\n",
        "A ideia é ter atividades mais fáceis, médias e difíceis. Pesquisar no Google e buscar na documentação do Python e das Bibliotecas serão suas melhores ferramentas. As chances de achar o que quer serão melhores se pesquisar em inglês. \n",
        "\n",
        "Além disso, saber usar as palavras certas e ter paciência é fundamental para encontrar o que quer. Entender as buscas leva um tempo, mas faz parte do processo de aprendizado.\n",
        "\n",
        "___\n",
        "\n",
        "Na pasta `./Notebooks/2_Bibliotecas/Dados`, tem um arquivo chamado `sedimentoCorrente.csv`, e será com ele que iremos trabalhar.\n",
        "\n",
        "É um conjunto de dado público da CPRM de sedimentos coletados em córregos para realizar análises químicas e posteriormente verificar se há algum valor anômalo para algum elemento químico, e assim, direcionar as buscas por possíveis depósitos minerais.\n",
        "\n",
        "____\n",
        "\n",
        "# Atividades\n",
        "\n",
        "As atividades serão descritas por biblioteca e em lista. Dessa forma, você terá uma sequência lógica do que fazer.\n",
        "\n",
        "## Geral\n",
        "\n",
        "- [x] Importar as bibliotecas\n",
        "- [x] Montar o Drive do Google ao Notebook \n",
        "\n",
        "## Pandas\n",
        "\n",
        "- [ ] Importar os dados\n",
        "- [ ] Verificar se a importação foi feita corretamente\n",
        "- [ ] Verificar os tipos de dados do dataframe\n",
        "- [ ] Pegar uma amostra do dataframe de 10 linhas\n",
        "- [ ] Ver o nome das colunas\n",
        "- [ ] Renomeie a coluna `Be (ppm)` para apenas `Be`\n",
        "- [ ] Buscar por valores NaN\n",
        "- [ ] Verificar a quantidade de amostras\n",
        "- [ ] Obter uma descrição estatística dos dados\n",
        "- [ ] Filtrar apenas a folha de `Patos de Minas`\n",
        "- [ ] Agrupar os valores médios dos elementos para cada folha.\n",
        "- [ ] Agrupar os valores médios de Ag para cada folha\n",
        "- [ ] Filtrar a amostra `JR-0016` e obter apenas valores de `Th` maiores que **9,75**\n",
        "- [ ] Salve o seu dataframe de `Patos de Minas` para a pasta `Dados` com o nome `sedimentos_patos.csv`\n",
        "\n",
        "## Visualização\n",
        "\n",
        "- [ ] Carregue o arquivo `sedimentos_patos.csv`\n",
        "- [ ] Crie uma cópia\n",
        "- [ ] Crie uma variável chamada `ag` e em seguida filtre apenas os dados de prata\n",
        "- [ ] Crie um histograma com:\n",
        "  -  título\n",
        "  - nome do eixo Y\n",
        "  - 15 bins de cor vermelha\n",
        "  - grid apenas no eixo Y\n",
        "- [ ] Crie um boxplot com:\n",
        "  - título\n",
        "  - nome do eixo X\n",
        "  - nome do eixo Y\n",
        "  - grid com transparência\n",
        "- [ ] Crie uma variável chamada `relation` e filtre valores de Ag e Cu\n",
        "- [ ] Crie um quadro geral com 4 gráficos\n",
        "- [ ] Nos gráficos superiores, coloque o histograma de cada elemento. Nos dois inferiores, os box-plots.\n",
        "- [ ] Crie um gráfico de dispersão entre Cu e Au, com:\n",
        "  - título\n",
        "  - nome dos eixos X e Y\n",
        "  - grid\n",
        "- [ ] Altere as cores da borda dos pontos para cinza\n",
        "- [ ] Exporte todas suas figuras com extensão `.jpeg`. "
      ]
    },
    {
      "cell_type": "code",
      "execution_count": null,
      "metadata": {
        "id": "AjI3E-uTpuZO"
      },
      "outputs": [],
      "source": [
        "# Run this cell to mount your Google Drive.\n",
        "from google.colab import drive\n",
        "drive.mount('/content/drive')"
      ]
    },
    {
      "cell_type": "code",
      "execution_count": null,
      "metadata": {
        "id": "4Deh_AqXpxFI"
      },
      "outputs": [],
      "source": [
        "#importando as bibliotecas\n",
        "\n",
        "import pandas as pd\n",
        "import matplotlib.pyplot as plt\n",
        "import numpy as np\n",
        "import seaborn as sb\n",
        "import os\n",
        "\n",
        "%matplotlib inline"
      ]
    }
  ],
  "metadata": {
    "colab": {
      "authorship_tag": "ABX9TyOVVvjcPtFiNsCachSzz9b6",
      "collapsed_sections": [],
      "include_colab_link": true,
      "mount_file_id": "1UOLtKNJmSYKunzRRE3WuVgH-MKvST8Zo",
      "provenance": []
    },
    "kernelspec": {
      "display_name": "Python 3",
      "name": "python3"
    },
    "language_info": {
      "name": "python"
    }
  },
  "nbformat": 4,
  "nbformat_minor": 0
}
